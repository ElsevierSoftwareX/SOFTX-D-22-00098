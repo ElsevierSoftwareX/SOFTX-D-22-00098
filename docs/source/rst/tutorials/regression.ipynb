{
 "cells": [
  {
   "cell_type": "code",
   "execution_count": 2,
   "metadata": {},
   "outputs": [],
   "source": [
    "import pandas as pd \n",
    "from scipy.io import arff\n",
    "from rulekit import RuleKit\n",
    "from rulekit.regression import RuleRegressor\n",
    "from rulekit.params import Measures\n",
    "\n",
    "from rulexai.explainer import RuleExplainer"
   ]
  },
  {
   "cell_type": "markdown",
   "metadata": {},
   "source": [
    "# CPU"
   ]
  },
  {
   "cell_type": "markdown",
   "metadata": {},
   "source": [
    "## Read data"
   ]
  },
  {
   "cell_type": "code",
   "execution_count": 3,
   "metadata": {},
   "outputs": [],
   "source": [
    "dataset_path = \"./data/cpu.arff\"\n",
    "data = pd.DataFrame(arff.loadarff(dataset_path)[0])\n",
    "\n",
    "# code to change encoding of the file\n",
    "tmp_df = data.select_dtypes([object])\n",
    "tmp_df = tmp_df.stack().str.decode(\"utf-8\").unstack()\n",
    "for col in tmp_df:\n",
    "    data[col] = tmp_df[col].replace({\"?\": None})\n",
    "\n",
    "x = data.drop([\"class\"], axis=1)\n",
    "y = data[\"class\"]"
   ]
  },
  {
   "cell_type": "markdown",
   "metadata": {},
   "source": [
    "## Train RuleKit model"
   ]
  },
  {
   "cell_type": "code",
   "execution_count": 11,
   "metadata": {},
   "outputs": [
    {
     "data": {
      "text/plain": [
       "<rulekit.regression.RuleRegressor at 0x28bffccc670>"
      ]
     },
     "execution_count": 11,
     "metadata": {},
     "output_type": "execute_result"
    }
   ],
   "source": [
    "# RuleKit\n",
    "RuleKit.init()\n",
    "\n",
    "reg = RuleRegressor(\n",
    "    induction_measure=Measures.C2,\n",
    "    pruning_measure=Measures.C2,\n",
    "    voting_measure=Measures.C2,\n",
    ")\n",
    "reg.fit(x, y)"
   ]
  },
  {
   "cell_type": "markdown",
   "metadata": {},
   "source": [
    "### Rules"
   ]
  },
  {
   "cell_type": "code",
   "execution_count": 12,
   "metadata": {},
   "outputs": [
    {
     "name": "stdout",
     "output_type": "stream",
     "text": [
      "IF vendor = {formation} THEN class = {34} [34,34] (p = 5.0, n = 0.0, P = 6.0, N = 203.0, weight = 0.9166666666666667, pvalue = 0.0)\n",
      "IF MMIN = <80, inf) AND MMAX = (-inf, 1750) THEN class = {18} [16.92,19.08] (p = 10.0, n = 1.0, P = 11.0, N = 198.0, weight = 0.8629476584022039, pvalue = 7.355108555449812e-21)\n",
      "IF MMIN = <756, inf) AND MMAX = (-inf, 4250) AND CHMAX = <7, 22) AND CHMIN = (-inf, 3.50) THEN class = {32} [30.64,33.36] (p = 4.0, n = 1.0, P = 7.0, N = 202.0, weight = 0.6231258840169731, pvalue = 1.1803717269256882e-08)\n",
      "IF MMIN = <756, inf) AND MMAX = (-inf, 4250) AND MYCT = (-inf, 232.50) AND CHMAX = <3.50, 22) AND CHMIN = (-inf, 3.50) THEN class = {29} [24.98,33.02] (p = 15.0, n = 3.0, P = 35.0, N = 174.0, weight = 0.5712917350848385, pvalue = 7.408462419973687e-25)\n",
      "IF MMIN = (-inf, 1500) AND MMAX = <1500, 4250) AND MYCT = <94.50, inf) AND CHMAX = <2.50, 44) THEN class = {24} [21.77,26.23] (p = 18.0, n = 7.0, P = 23.0, N = 186.0, weight = 0.6108789153810191, pvalue = 1.183267277682215e-40)\n",
      "IF MMAX = (-inf, 4750) THEN class = {24} [10.30,37.70] (p = 69.0, n = 2.0, P = 88.0, N = 121.0, weight = 0.8486424746828075, pvalue = 1.6425318084016525e-60)\n",
      "IF MYCT = <87, inf) AND CHMAX = (-inf, 96) THEN class = {29} [1.17,56.83] (p = 107.0, n = 11.0, P = 124.0, N = 85.0, weight = 0.7179513877721673, pvalue = 1.3893662585668293e-64)\n",
      "IF MMAX = <6150, 9240) AND MYCT = (-inf, 129) AND CACH = <2, 28) AND CHMAX = (-inf, 46) THEN class = {46} [43.77,48.23] (p = 9.0, n = 2.0, P = 13.0, N = 196.0, weight = 0.6821036106750392, pvalue = 1.023395667474569e-17)\n",
      "IF MMIN = (-inf, 2150) AND MMAX = <5000, 9240) AND MYCT = (-inf, 146.50) AND CHMAX = <5.50, inf) THEN class = {46} [14.85,77.15] (p = 25.0, n = 1.0, P = 143.0, N = 66.0, weight = 0.5158687466379773, pvalue = 7.403283011266057e-14)\n",
      "IF MMIN = <2310, 4500) AND MYCT = <31.50, 102.50) AND CACH = (-inf, 48) AND CHMAX = (-inf, 40) THEN class = {80} [57.27,102.73] (p = 12.0, n = 2.0, P = 34.0, N = 175.0, weight = 0.5610564225690277, pvalue = 1.34750514438087e-09)\n",
      "IF MMIN = <640, 4500) AND MMAX = <7150, 24000) THEN class = {65} [36.20,93.80] (p = 60.0, n = 13.0, P = 68.0, N = 141.0, weight = 0.6927380687046022, pvalue = 2.2589525624983582e-39)\n",
      "IF MYCT = <27.50, 44) AND CHMIN = (-inf, 10) THEN class = {253} [192.76,313.24] (p = 7.0, n = 3.0, P = 12.0, N = 197.0, weight = 0.5396996615905246, pvalue = 0.001963352522246969)\n",
      "IF MMIN = <884, inf) AND MMAX = <9240, inf) AND CHMAX = <2.50, 88) AND CHMIN = (-inf, 14) THEN class = {117} [44.09,189.91] (p = 49.0, n = 11.0, P = 80.0, N = 129.0, weight = 0.5667708333333334, pvalue = 4.475942404933969e-11)\n",
      "IF MMIN = <3000, inf) AND MMAX = <24000, 48000) AND CHMIN = <14, inf) THEN class = {381} [301.01,460.99] (p = 6.0, n = 1.0, P = 8.0, N = 201.0, weight = 0.7450248756218906, pvalue = 0.047637666066025854)\n",
      "IF MMIN = (-inf, 24000) AND MMAX = <28000, inf) AND MYCT = (-inf, 95) AND CACH = (-inf, 192) THEN class = {341} [129.60,552.40] (p = 19.0, n = 3.0, P = 34.0, N = 175.0, weight = 0.6524789915966387, pvalue = 0.990671648706587)\n"
     ]
    }
   ],
   "source": [
    "for rule in reg.model.rules:\n",
    "    print(rule, rule.stats)"
   ]
  },
  {
   "cell_type": "markdown",
   "metadata": {},
   "source": [
    "## RuleXAI"
   ]
  },
  {
   "cell_type": "code",
   "execution_count": 13,
   "metadata": {},
   "outputs": [
    {
     "data": {
      "text/plain": [
       "<rulexai.explainer.RuleExplainer at 0x28ba8c77b50>"
      ]
     },
     "execution_count": 13,
     "metadata": {},
     "output_type": "execute_result"
    }
   ],
   "source": [
    "explainer = RuleExplainer(model=reg, X=x, y=y, type=\"regression\")\n",
    "explainer.explain()"
   ]
  },
  {
   "cell_type": "markdown",
   "metadata": {},
   "source": [
    "### Feature importance "
   ]
  },
  {
   "cell_type": "code",
   "execution_count": 14,
   "metadata": {},
   "outputs": [
    {
     "data": {
      "text/html": [
       "<div>\n",
       "<style scoped>\n",
       "    .dataframe tbody tr th:only-of-type {\n",
       "        vertical-align: middle;\n",
       "    }\n",
       "\n",
       "    .dataframe tbody tr th {\n",
       "        vertical-align: top;\n",
       "    }\n",
       "\n",
       "    .dataframe thead th {\n",
       "        text-align: right;\n",
       "    }\n",
       "</style>\n",
       "<table border=\"1\" class=\"dataframe\">\n",
       "  <thead>\n",
       "    <tr style=\"text-align: right;\">\n",
       "      <th></th>\n",
       "      <th>attributes</th>\n",
       "      <th>importances</th>\n",
       "    </tr>\n",
       "  </thead>\n",
       "  <tbody>\n",
       "    <tr>\n",
       "      <th>3</th>\n",
       "      <td>MMAX</td>\n",
       "      <td>4.014332</td>\n",
       "    </tr>\n",
       "    <tr>\n",
       "      <th>2</th>\n",
       "      <td>CHMIN</td>\n",
       "      <td>3.028757</td>\n",
       "    </tr>\n",
       "    <tr>\n",
       "      <th>6</th>\n",
       "      <td>vendor</td>\n",
       "      <td>0.916667</td>\n",
       "    </tr>\n",
       "    <tr>\n",
       "      <th>1</th>\n",
       "      <td>CHMAX</td>\n",
       "      <td>0.460550</td>\n",
       "    </tr>\n",
       "    <tr>\n",
       "      <th>0</th>\n",
       "      <td>CACH</td>\n",
       "      <td>0.289558</td>\n",
       "    </tr>\n",
       "    <tr>\n",
       "      <th>4</th>\n",
       "      <td>MMIN</td>\n",
       "      <td>0.167137</td>\n",
       "    </tr>\n",
       "    <tr>\n",
       "      <th>5</th>\n",
       "      <td>MYCT</td>\n",
       "      <td>-1.233983</td>\n",
       "    </tr>\n",
       "  </tbody>\n",
       "</table>\n",
       "</div>"
      ],
      "text/plain": [
       "  attributes  importances\n",
       "3       MMAX     4.014332\n",
       "2      CHMIN     3.028757\n",
       "6     vendor     0.916667\n",
       "1      CHMAX     0.460550\n",
       "0       CACH     0.289558\n",
       "4       MMIN     0.167137\n",
       "5       MYCT    -1.233983"
      ]
     },
     "execution_count": 14,
     "metadata": {},
     "output_type": "execute_result"
    }
   ],
   "source": [
    "explainer.feature_importances_"
   ]
  },
  {
   "cell_type": "markdown",
   "metadata": {},
   "source": [
    "### Condition importance"
   ]
  },
  {
   "cell_type": "code",
   "execution_count": 15,
   "metadata": {},
   "outputs": [
    {
     "data": {
      "text/html": [
       "<div>\n",
       "<style scoped>\n",
       "    .dataframe tbody tr th:only-of-type {\n",
       "        vertical-align: middle;\n",
       "    }\n",
       "\n",
       "    .dataframe tbody tr th {\n",
       "        vertical-align: top;\n",
       "    }\n",
       "\n",
       "    .dataframe thead th {\n",
       "        text-align: right;\n",
       "    }\n",
       "</style>\n",
       "<table border=\"1\" class=\"dataframe\">\n",
       "  <thead>\n",
       "    <tr style=\"text-align: right;\">\n",
       "      <th></th>\n",
       "      <th>conditions</th>\n",
       "      <th>importances</th>\n",
       "    </tr>\n",
       "  </thead>\n",
       "  <tbody>\n",
       "    <tr>\n",
       "      <th>0</th>\n",
       "      <td>CHMIN = (-inf, 10.0)</td>\n",
       "      <td>2.127775</td>\n",
       "    </tr>\n",
       "    <tr>\n",
       "      <th>1</th>\n",
       "      <td>vendor = {formation}</td>\n",
       "      <td>0.916667</td>\n",
       "    </tr>\n",
       "    <tr>\n",
       "      <th>2</th>\n",
       "      <td>MMAX = (-inf, 4750.0)</td>\n",
       "      <td>0.848642</td>\n",
       "    </tr>\n",
       "    <tr>\n",
       "      <th>3</th>\n",
       "      <td>MMAX = (-inf, 1750.0)</td>\n",
       "      <td>0.827179</td>\n",
       "    </tr>\n",
       "    <tr>\n",
       "      <th>4</th>\n",
       "      <td>MYCT = &lt;87.0, inf)</td>\n",
       "      <td>0.643064</td>\n",
       "    </tr>\n",
       "    <tr>\n",
       "      <th>5</th>\n",
       "      <td>MMAX = (-inf, 4250.0)</td>\n",
       "      <td>0.528220</td>\n",
       "    </tr>\n",
       "    <tr>\n",
       "      <th>6</th>\n",
       "      <td>MMAX = &lt;7150.0, 24000.0)</td>\n",
       "      <td>0.481404</td>\n",
       "    </tr>\n",
       "    <tr>\n",
       "      <th>7</th>\n",
       "      <td>CHMIN = (-inf, 14.0)</td>\n",
       "      <td>0.402859</td>\n",
       "    </tr>\n",
       "    <tr>\n",
       "      <th>8</th>\n",
       "      <td>MMAX = &lt;28000.0, inf)</td>\n",
       "      <td>0.381381</td>\n",
       "    </tr>\n",
       "    <tr>\n",
       "      <th>9</th>\n",
       "      <td>MMAX = &lt;24000.0, 48000.0)</td>\n",
       "      <td>0.339882</td>\n",
       "    </tr>\n",
       "    <tr>\n",
       "      <th>10</th>\n",
       "      <td>MMAX = &lt;6150.0, 9240.0)</td>\n",
       "      <td>0.307522</td>\n",
       "    </tr>\n",
       "    <tr>\n",
       "      <th>11</th>\n",
       "      <td>CHMIN = (-inf, 3.5)</td>\n",
       "      <td>0.260506</td>\n",
       "    </tr>\n",
       "    <tr>\n",
       "      <th>12</th>\n",
       "      <td>CHMIN = &lt;14.0, inf)</td>\n",
       "      <td>0.237616</td>\n",
       "    </tr>\n",
       "    <tr>\n",
       "      <th>13</th>\n",
       "      <td>MMAX = &lt;1500.0, 4250.0)</td>\n",
       "      <td>0.224479</td>\n",
       "    </tr>\n",
       "    <tr>\n",
       "      <th>14</th>\n",
       "      <td>MMIN = &lt;640.0, 4500.0)</td>\n",
       "      <td>0.211334</td>\n",
       "    </tr>\n",
       "    <tr>\n",
       "      <th>15</th>\n",
       "      <td>MMAX = &lt;5000.0, 9240.0)</td>\n",
       "      <td>0.198756</td>\n",
       "    </tr>\n",
       "    <tr>\n",
       "      <th>16</th>\n",
       "      <td>MMIN = (-inf, 1500.0)</td>\n",
       "      <td>0.198058</td>\n",
       "    </tr>\n",
       "    <tr>\n",
       "      <th>17</th>\n",
       "      <td>MMIN = (-inf, 2150.0)</td>\n",
       "      <td>0.185016</td>\n",
       "    </tr>\n",
       "    <tr>\n",
       "      <th>18</th>\n",
       "      <td>MYCT = &lt;94.5, inf)</td>\n",
       "      <td>0.179675</td>\n",
       "    </tr>\n",
       "    <tr>\n",
       "      <th>19</th>\n",
       "      <td>CHMAX = &lt;2.5, 88.0)</td>\n",
       "      <td>0.165561</td>\n",
       "    </tr>\n",
       "    <tr>\n",
       "      <th>20</th>\n",
       "      <td>CACH = (-inf, 48.0)</td>\n",
       "      <td>0.154017</td>\n",
       "    </tr>\n",
       "    <tr>\n",
       "      <th>21</th>\n",
       "      <td>CACH = &lt;2.0, 28.0)</td>\n",
       "      <td>0.109025</td>\n",
       "    </tr>\n",
       "    <tr>\n",
       "      <th>22</th>\n",
       "      <td>MMIN = &lt;2310.0, 4500.0)</td>\n",
       "      <td>0.090892</td>\n",
       "    </tr>\n",
       "    <tr>\n",
       "      <th>23</th>\n",
       "      <td>CHMAX = (-inf, 96.0)</td>\n",
       "      <td>0.074887</td>\n",
       "    </tr>\n",
       "    <tr>\n",
       "      <th>24</th>\n",
       "      <td>CHMAX = (-inf, 46.0)</td>\n",
       "      <td>0.066936</td>\n",
       "    </tr>\n",
       "    <tr>\n",
       "      <th>25</th>\n",
       "      <td>CHMAX = &lt;7.0, 22.0)</td>\n",
       "      <td>0.062233</td>\n",
       "    </tr>\n",
       "    <tr>\n",
       "      <th>26</th>\n",
       "      <td>CHMAX = (-inf, 40.0)</td>\n",
       "      <td>0.059474</td>\n",
       "    </tr>\n",
       "    <tr>\n",
       "      <th>27</th>\n",
       "      <td>CHMAX = &lt;3.5, 22.0)</td>\n",
       "      <td>0.056674</td>\n",
       "    </tr>\n",
       "    <tr>\n",
       "      <th>28</th>\n",
       "      <td>MMIN = (-inf, 24000.0)</td>\n",
       "      <td>0.054221</td>\n",
       "    </tr>\n",
       "    <tr>\n",
       "      <th>29</th>\n",
       "      <td>CHMAX = &lt;2.5, 44.0)</td>\n",
       "      <td>0.049421</td>\n",
       "    </tr>\n",
       "    <tr>\n",
       "      <th>30</th>\n",
       "      <td>MMIN = &lt;80.0, inf)</td>\n",
       "      <td>0.035768</td>\n",
       "    </tr>\n",
       "    <tr>\n",
       "      <th>31</th>\n",
       "      <td>CACH = (-inf, 192.0)</td>\n",
       "      <td>0.026516</td>\n",
       "    </tr>\n",
       "    <tr>\n",
       "      <th>32</th>\n",
       "      <td>MYCT = &lt;31.5, 102.5)</td>\n",
       "      <td>0.026372</td>\n",
       "    </tr>\n",
       "    <tr>\n",
       "      <th>33</th>\n",
       "      <td>MMIN = &lt;756.0, inf)</td>\n",
       "      <td>0.003292</td>\n",
       "    </tr>\n",
       "    <tr>\n",
       "      <th>34</th>\n",
       "      <td>MYCT = (-inf, 232.5)</td>\n",
       "      <td>-0.033761</td>\n",
       "    </tr>\n",
       "    <tr>\n",
       "      <th>35</th>\n",
       "      <td>MMIN = &lt;884.0, inf)</td>\n",
       "      <td>-0.069930</td>\n",
       "    </tr>\n",
       "    <tr>\n",
       "      <th>36</th>\n",
       "      <td>CHMAX = &lt;5.5, inf)</td>\n",
       "      <td>-0.074637</td>\n",
       "    </tr>\n",
       "    <tr>\n",
       "      <th>37</th>\n",
       "      <td>MYCT = (-inf, 146.5)</td>\n",
       "      <td>-0.117779</td>\n",
       "    </tr>\n",
       "    <tr>\n",
       "      <th>38</th>\n",
       "      <td>MMAX = &lt;9240.0, inf)</td>\n",
       "      <td>-0.123134</td>\n",
       "    </tr>\n",
       "    <tr>\n",
       "      <th>39</th>\n",
       "      <td>MYCT = (-inf, 129.0)</td>\n",
       "      <td>-0.151520</td>\n",
       "    </tr>\n",
       "    <tr>\n",
       "      <th>40</th>\n",
       "      <td>MYCT = (-inf, 95.0)</td>\n",
       "      <td>-0.191957</td>\n",
       "    </tr>\n",
       "    <tr>\n",
       "      <th>41</th>\n",
       "      <td>MMIN = &lt;3000.0, inf)</td>\n",
       "      <td>-0.541514</td>\n",
       "    </tr>\n",
       "    <tr>\n",
       "      <th>42</th>\n",
       "      <td>MYCT = &lt;27.5, 44.0)</td>\n",
       "      <td>-1.588076</td>\n",
       "    </tr>\n",
       "  </tbody>\n",
       "</table>\n",
       "</div>"
      ],
      "text/plain": [
       "                   conditions  importances\n",
       "0        CHMIN = (-inf, 10.0)     2.127775\n",
       "1        vendor = {formation}     0.916667\n",
       "2       MMAX = (-inf, 4750.0)     0.848642\n",
       "3       MMAX = (-inf, 1750.0)     0.827179\n",
       "4          MYCT = <87.0, inf)     0.643064\n",
       "5       MMAX = (-inf, 4250.0)     0.528220\n",
       "6    MMAX = <7150.0, 24000.0)     0.481404\n",
       "7        CHMIN = (-inf, 14.0)     0.402859\n",
       "8       MMAX = <28000.0, inf)     0.381381\n",
       "9   MMAX = <24000.0, 48000.0)     0.339882\n",
       "10    MMAX = <6150.0, 9240.0)     0.307522\n",
       "11        CHMIN = (-inf, 3.5)     0.260506\n",
       "12        CHMIN = <14.0, inf)     0.237616\n",
       "13    MMAX = <1500.0, 4250.0)     0.224479\n",
       "14     MMIN = <640.0, 4500.0)     0.211334\n",
       "15    MMAX = <5000.0, 9240.0)     0.198756\n",
       "16      MMIN = (-inf, 1500.0)     0.198058\n",
       "17      MMIN = (-inf, 2150.0)     0.185016\n",
       "18         MYCT = <94.5, inf)     0.179675\n",
       "19        CHMAX = <2.5, 88.0)     0.165561\n",
       "20        CACH = (-inf, 48.0)     0.154017\n",
       "21         CACH = <2.0, 28.0)     0.109025\n",
       "22    MMIN = <2310.0, 4500.0)     0.090892\n",
       "23       CHMAX = (-inf, 96.0)     0.074887\n",
       "24       CHMAX = (-inf, 46.0)     0.066936\n",
       "25        CHMAX = <7.0, 22.0)     0.062233\n",
       "26       CHMAX = (-inf, 40.0)     0.059474\n",
       "27        CHMAX = <3.5, 22.0)     0.056674\n",
       "28     MMIN = (-inf, 24000.0)     0.054221\n",
       "29        CHMAX = <2.5, 44.0)     0.049421\n",
       "30         MMIN = <80.0, inf)     0.035768\n",
       "31       CACH = (-inf, 192.0)     0.026516\n",
       "32       MYCT = <31.5, 102.5)     0.026372\n",
       "33        MMIN = <756.0, inf)     0.003292\n",
       "34       MYCT = (-inf, 232.5)    -0.033761\n",
       "35        MMIN = <884.0, inf)    -0.069930\n",
       "36         CHMAX = <5.5, inf)    -0.074637\n",
       "37       MYCT = (-inf, 146.5)    -0.117779\n",
       "38       MMAX = <9240.0, inf)    -0.123134\n",
       "39       MYCT = (-inf, 129.0)    -0.151520\n",
       "40        MYCT = (-inf, 95.0)    -0.191957\n",
       "41       MMIN = <3000.0, inf)    -0.541514\n",
       "42        MYCT = <27.5, 44.0)    -1.588076"
      ]
     },
     "execution_count": 15,
     "metadata": {},
     "output_type": "execute_result"
    }
   ],
   "source": [
    "explainer.condition_importances_"
   ]
  },
  {
   "cell_type": "markdown",
   "metadata": {},
   "source": [
    "### Local explainability"
   ]
  },
  {
   "cell_type": "code",
   "execution_count": 16,
   "metadata": {},
   "outputs": [
    {
     "name": "stdout",
     "output_type": "stream",
     "text": [
      "Example:\n",
      "vendor    adviser\n",
      "MYCT        125.0\n",
      "MMIN        256.0\n",
      "MMAX       6000.0\n",
      "CACH        256.0\n",
      "CHMIN        16.0\n",
      "CHMAX       128.0\n",
      "class       199.0\n",
      "Name: 0, dtype: object\n",
      "\n",
      "Rules that covers this example:\n",
      "IF MMIN = (-inf, 2150.0) AND MMAX = <5000.0, 9240.0) AND MYCT = (-inf, 146.5) AND CHMAX = <5.5, inf) THEN class = {46.0}\n",
      "\n",
      "Importances of the conditions from rules covering the example\n",
      "                conditions  importances\n",
      "0  MMAX = <5000.0, 9240.0)     0.198756\n",
      "1    MMIN = (-inf, 2150.0)     0.185016\n",
      "2       CHMAX = <5.5, inf)    -0.074637\n",
      "3     MYCT = (-inf, 146.5)    -0.117779\n"
     ]
    },
    {
     "data": {
      "image/png": "[encoded data removed]",
      "text/plain": [
       "<Figure size 432x288 with 1 Axes>"
      ]
     },
     "metadata": {
      "needs_background": "light"
     },
     "output_type": "display_data"
    },
    {
     "data": {
      "text/html": [
       "<div>\n",
       "<style scoped>\n",
       "    .dataframe tbody tr th:only-of-type {\n",
       "        vertical-align: middle;\n",
       "    }\n",
       "\n",
       "    .dataframe tbody tr th {\n",
       "        vertical-align: top;\n",
       "    }\n",
       "\n",
       "    .dataframe thead th {\n",
       "        text-align: right;\n",
       "    }\n",
       "</style>\n",
       "<table border=\"1\" class=\"dataframe\">\n",
       "  <thead>\n",
       "    <tr style=\"text-align: right;\">\n",
       "      <th></th>\n",
       "      <th>conditions</th>\n",
       "      <th>importances</th>\n",
       "    </tr>\n",
       "  </thead>\n",
       "  <tbody>\n",
       "    <tr>\n",
       "      <th>0</th>\n",
       "      <td>MMAX = &lt;5000.0, 9240.0)</td>\n",
       "      <td>0.198756</td>\n",
       "    </tr>\n",
       "    <tr>\n",
       "      <th>1</th>\n",
       "      <td>MMIN = (-inf, 2150.0)</td>\n",
       "      <td>0.185016</td>\n",
       "    </tr>\n",
       "    <tr>\n",
       "      <th>2</th>\n",
       "      <td>CHMAX = &lt;5.5, inf)</td>\n",
       "      <td>-0.074637</td>\n",
       "    </tr>\n",
       "    <tr>\n",
       "      <th>3</th>\n",
       "      <td>MYCT = (-inf, 146.5)</td>\n",
       "      <td>-0.117779</td>\n",
       "    </tr>\n",
       "  </tbody>\n",
       "</table>\n",
       "</div>"
      ],
      "text/plain": [
       "                conditions  importances\n",
       "0  MMAX = <5000.0, 9240.0)     0.198756\n",
       "1    MMIN = (-inf, 2150.0)     0.185016\n",
       "2       CHMAX = <5.5, inf)    -0.074637\n",
       "3     MYCT = (-inf, 146.5)    -0.117779"
      ]
     },
     "execution_count": 16,
     "metadata": {},
     "output_type": "execute_result"
    }
   ],
   "source": [
    "explainer.local_explainability(x.iloc[0, :], pd.DataFrame(y).iloc[0, :], plot = True)"
   ]
  }
 ],
 "metadata": {
  "interpreter": {
   "hash": "52a883ffde2ee8dab628074f134ac5e542adeed8306ab19e0ac3d240604a9b31"
  },
  "kernelspec": {
   "display_name": "rulexai",
   "language": "python",
   "name": "rulexai"
  },
  "language_info": {
   "codemirror_mode": {
    "name": "ipython",
    "version": 3
   },
   "file_extension": ".py",
   "mimetype": "text/x-python",
   "name": "python",
   "nbconvert_exporter": "python",
   "pygments_lexer": "ipython3",
   "version": "3.8.5"
  },
  "orig_nbformat": 4
 },
 "nbformat": 4,
 "nbformat_minor": 2
}
