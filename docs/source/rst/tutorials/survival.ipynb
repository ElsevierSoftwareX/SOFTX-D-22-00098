{
 "cells": [
  {
   "cell_type": "code",
   "execution_count": 2,
   "metadata": {},
   "outputs": [],
   "source": [
    "import pandas as pd \n",
    "from scipy.io import arff\n",
    "from rulekit import RuleKit\n",
    "from rulekit.survival import SurvivalRules\n",
    "from rulekit.params import Measures\n",
    "\n",
    "from rulexai.explainer import RuleExplainer"
   ]
  },
  {
   "cell_type": "markdown",
   "metadata": {},
   "source": [
    "# GBSG2"
   ]
  },
  {
   "cell_type": "markdown",
   "metadata": {},
   "source": [
    "## Read data"
   ]
  },
  {
   "cell_type": "code",
   "execution_count": 3,
   "metadata": {},
   "outputs": [],
   "source": [
    "dataset_path = \"./data/GBSG2.arff\"\n",
    "data = pd.DataFrame(arff.loadarff(dataset_path)[0])\n",
    "\n",
    "# code to change encoding of the file\n",
    "tmp_df = data.select_dtypes([object])\n",
    "tmp_df = tmp_df.stack().str.decode(\"utf-8\").unstack()\n",
    "for col in tmp_df:\n",
    "    data[col] = tmp_df[col].replace({\"?\": None})\n",
    "\n",
    "x = data.drop([\"survival_status\"], axis=1)\n",
    "y = data[\"survival_status\"]"
   ]
  },
  {
   "cell_type": "markdown",
   "metadata": {},
   "source": [
    "## Train RuleKit model"
   ]
  },
  {
   "cell_type": "code",
   "execution_count": 4,
   "metadata": {},
   "outputs": [
    {
     "data": {
      "text/plain": [
       "<rulekit.survival.SurvivalRules at 0x176db91a880>"
      ]
     },
     "execution_count": 4,
     "metadata": {},
     "output_type": "execute_result"
    }
   ],
   "source": [
    "# RuleKit\n",
    "RuleKit.init()\n",
    "\n",
    "srv = SurvivalRules(survival_time_attr=\"survival_time\")\n",
    "srv.fit(values=x, labels=y)"
   ]
  },
  {
   "cell_type": "markdown",
   "metadata": {},
   "source": [
    "### Rules"
   ]
  },
  {
   "cell_type": "code",
   "execution_count": 5,
   "metadata": {},
   "outputs": [
    {
     "name": "stdout",
     "output_type": "stream",
     "text": [
      "IF pnodes = (-inf, 3.50) THEN survival_status = {NaN} (p = 304.0, n = 0.0, P = 564.0, N = 0.0, weight = 0.9999999999999998, pvalue = 2.220446049250313e-16)\n",
      "IF pnodes = (-inf, 17.50) AND progrec = (-inf, 9.50) AND age = <41.50, 52.50) AND estrec = <0.50, 29) THEN survival_status = {NaN} (p = 21.0, n = 0.0, P = 564.0, N = 0.0, weight = 0.9999999999909083, pvalue = 9.09172737095787e-12)\n",
      "IF pnodes = <4.50, 19) AND progrec = (-inf, 11.50) AND age = <41.50, 64.50) AND estrec = <0.50, 41) THEN survival_status = {NaN} (p = 33.0, n = 0.0, P = 564.0, N = 0.0, weight = 1.0, pvalue = 0.0)\n",
      "IF pnodes = <4.50, inf) AND progrec = (-inf, 25.50) THEN survival_status = {NaN} (p = 113.0, n = 0.0, P = 564.0, N = 0.0, weight = 1.0, pvalue = 0.0)\n",
      "IF pnodes = <4.50, inf) AND progrec = (-inf, 99) THEN survival_status = {NaN} (p = 156.0, n = 0.0, P = 564.0, N = 0.0, weight = 1.0, pvalue = 0.0)\n",
      "IF pnodes = <5.50, inf) AND progrec = (-inf, 135) THEN survival_status = {NaN} (p = 144.0, n = 0.0, P = 564.0, N = 0.0, weight = 1.0, pvalue = 0.0)\n",
      "IF pnodes = <4.50, inf) AND progrec = (-inf, 233) THEN survival_status = {NaN} (p = 185.0, n = 0.0, P = 564.0, N = 0.0, weight = 1.0, pvalue = 0.0)\n",
      "IF pnodes = (-inf, 4.50) AND progrec = <9, inf) AND age = <39.50, inf) THEN survival_status = {NaN} (p = 245.0, n = 0.0, P = 564.0, N = 0.0, weight = 1.0, pvalue = 0.0)\n",
      "IF progrec = <107, inf) THEN survival_status = {NaN} (p = 168.0, n = 0.0, P = 564.0, N = 0.0, weight = 0.9999999989621143, pvalue = 1.0378856662995872e-09)\n",
      "IF pnodes = <3.50, inf) AND progrec = (-inf, 105.50) THEN survival_status = {NaN} (p = 195.0, n = 0.0, P = 564.0, N = 0.0, weight = 1.0, pvalue = 0.0)\n"
     ]
    }
   ],
   "source": [
    "for rule in srv.model.rules:\n",
    "    print(rule, rule.stats)"
   ]
  },
  {
   "cell_type": "markdown",
   "metadata": {},
   "source": [
    "## RuleXAI"
   ]
  },
  {
   "cell_type": "code",
   "execution_count": 6,
   "metadata": {},
   "outputs": [
    {
     "data": {
      "text/plain": [
       "<rulexai.explainer.RuleExplainer at 0x176db937700>"
      ]
     },
     "execution_count": 6,
     "metadata": {},
     "output_type": "execute_result"
    }
   ],
   "source": [
    "explainer = RuleExplainer(model=srv, X=x, y=y, type=\"survival\")\n",
    "explainer.explain()"
   ]
  },
  {
   "cell_type": "markdown",
   "metadata": {},
   "source": [
    "### Feature importance "
   ]
  },
  {
   "cell_type": "code",
   "execution_count": 7,
   "metadata": {},
   "outputs": [
    {
     "data": {
      "text/html": [
       "<div>\n",
       "<style scoped>\n",
       "    .dataframe tbody tr th:only-of-type {\n",
       "        vertical-align: middle;\n",
       "    }\n",
       "\n",
       "    .dataframe tbody tr th {\n",
       "        vertical-align: top;\n",
       "    }\n",
       "\n",
       "    .dataframe thead th {\n",
       "        text-align: right;\n",
       "    }\n",
       "</style>\n",
       "<table border=\"1\" class=\"dataframe\">\n",
       "  <thead>\n",
       "    <tr style=\"text-align: right;\">\n",
       "      <th></th>\n",
       "      <th>attributes</th>\n",
       "      <th>importances</th>\n",
       "    </tr>\n",
       "  </thead>\n",
       "  <tbody>\n",
       "    <tr>\n",
       "      <th>2</th>\n",
       "      <td>pnodes</td>\n",
       "      <td>460.222804</td>\n",
       "    </tr>\n",
       "    <tr>\n",
       "      <th>3</th>\n",
       "      <td>progrec</td>\n",
       "      <td>251.499862</td>\n",
       "    </tr>\n",
       "    <tr>\n",
       "      <th>0</th>\n",
       "      <td>age</td>\n",
       "      <td>20.523849</td>\n",
       "    </tr>\n",
       "    <tr>\n",
       "      <th>1</th>\n",
       "      <td>estrec</td>\n",
       "      <td>13.347720</td>\n",
       "    </tr>\n",
       "  </tbody>\n",
       "</table>\n",
       "</div>"
      ],
      "text/plain": [
       "  attributes  importances\n",
       "2     pnodes   460.222804\n",
       "3    progrec   251.499862\n",
       "0        age    20.523849\n",
       "1     estrec    13.347720"
      ]
     },
     "execution_count": 7,
     "metadata": {},
     "output_type": "execute_result"
    }
   ],
   "source": [
    "explainer.feature_importances_"
   ]
  },
  {
   "cell_type": "markdown",
   "metadata": {},
   "source": [
    "### Condition importance"
   ]
  },
  {
   "cell_type": "code",
   "execution_count": 8,
   "metadata": {},
   "outputs": [
    {
     "data": {
      "text/html": [
       "<div>\n",
       "<style scoped>\n",
       "    .dataframe tbody tr th:only-of-type {\n",
       "        vertical-align: middle;\n",
       "    }\n",
       "\n",
       "    .dataframe tbody tr th {\n",
       "        vertical-align: top;\n",
       "    }\n",
       "\n",
       "    .dataframe thead th {\n",
       "        text-align: right;\n",
       "    }\n",
       "</style>\n",
       "<table border=\"1\" class=\"dataframe\">\n",
       "  <thead>\n",
       "    <tr style=\"text-align: right;\">\n",
       "      <th></th>\n",
       "      <th>conditions</th>\n",
       "      <th>importances</th>\n",
       "    </tr>\n",
       "  </thead>\n",
       "  <tbody>\n",
       "    <tr>\n",
       "      <th>0</th>\n",
       "      <td>pnodes = &lt;4.5, inf)</td>\n",
       "      <td>207.268572</td>\n",
       "    </tr>\n",
       "    <tr>\n",
       "      <th>1</th>\n",
       "      <td>pnodes = (-inf, 3.5)</td>\n",
       "      <td>67.394775</td>\n",
       "    </tr>\n",
       "    <tr>\n",
       "      <th>2</th>\n",
       "      <td>pnodes = &lt;5.5, inf)</td>\n",
       "      <td>64.254026</td>\n",
       "    </tr>\n",
       "    <tr>\n",
       "      <th>3</th>\n",
       "      <td>pnodes = &lt;3.5, inf)</td>\n",
       "      <td>64.104973</td>\n",
       "    </tr>\n",
       "    <tr>\n",
       "      <th>4</th>\n",
       "      <td>progrec = (-inf, 25.5)</td>\n",
       "      <td>48.923100</td>\n",
       "    </tr>\n",
       "    <tr>\n",
       "      <th>5</th>\n",
       "      <td>progrec = &lt;107.0, inf)</td>\n",
       "      <td>37.252374</td>\n",
       "    </tr>\n",
       "    <tr>\n",
       "      <th>6</th>\n",
       "      <td>progrec = (-inf, 105.5)</td>\n",
       "      <td>33.962572</td>\n",
       "    </tr>\n",
       "    <tr>\n",
       "      <th>7</th>\n",
       "      <td>progrec = (-inf, 99.0)</td>\n",
       "      <td>33.423755</td>\n",
       "    </tr>\n",
       "    <tr>\n",
       "      <th>8</th>\n",
       "      <td>pnodes = (-inf, 4.5)</td>\n",
       "      <td>32.835122</td>\n",
       "    </tr>\n",
       "    <tr>\n",
       "      <th>9</th>\n",
       "      <td>progrec = (-inf, 135.0)</td>\n",
       "      <td>25.353218</td>\n",
       "    </tr>\n",
       "    <tr>\n",
       "      <th>10</th>\n",
       "      <td>progrec = (-inf, 11.5)</td>\n",
       "      <td>23.663185</td>\n",
       "    </tr>\n",
       "    <tr>\n",
       "      <th>11</th>\n",
       "      <td>progrec = (-inf, 9.5)</td>\n",
       "      <td>23.506762</td>\n",
       "    </tr>\n",
       "    <tr>\n",
       "      <th>12</th>\n",
       "      <td>pnodes = &lt;4.5, 19.0)</td>\n",
       "      <td>18.150272</td>\n",
       "    </tr>\n",
       "    <tr>\n",
       "      <th>13</th>\n",
       "      <td>progrec = &lt;9.0, inf)</td>\n",
       "      <td>13.146344</td>\n",
       "    </tr>\n",
       "    <tr>\n",
       "      <th>14</th>\n",
       "      <td>progrec = (-inf, 233.0)</td>\n",
       "      <td>12.268552</td>\n",
       "    </tr>\n",
       "    <tr>\n",
       "      <th>15</th>\n",
       "      <td>estrec = &lt;0.5, 29.0)</td>\n",
       "      <td>10.450381</td>\n",
       "    </tr>\n",
       "    <tr>\n",
       "      <th>16</th>\n",
       "      <td>age = &lt;41.5, 64.5)</td>\n",
       "      <td>9.275232</td>\n",
       "    </tr>\n",
       "    <tr>\n",
       "      <th>17</th>\n",
       "      <td>age = &lt;41.5, 52.5)</td>\n",
       "      <td>8.077389</td>\n",
       "    </tr>\n",
       "    <tr>\n",
       "      <th>18</th>\n",
       "      <td>pnodes = (-inf, 17.5)</td>\n",
       "      <td>6.215064</td>\n",
       "    </tr>\n",
       "    <tr>\n",
       "      <th>19</th>\n",
       "      <td>age = &lt;39.5, inf)</td>\n",
       "      <td>3.171229</td>\n",
       "    </tr>\n",
       "    <tr>\n",
       "      <th>20</th>\n",
       "      <td>estrec = &lt;0.5, 41.0)</td>\n",
       "      <td>2.897339</td>\n",
       "    </tr>\n",
       "  </tbody>\n",
       "</table>\n",
       "</div>"
      ],
      "text/plain": [
       "                 conditions  importances\n",
       "0       pnodes = <4.5, inf)   207.268572\n",
       "1      pnodes = (-inf, 3.5)    67.394775\n",
       "2       pnodes = <5.5, inf)    64.254026\n",
       "3       pnodes = <3.5, inf)    64.104973\n",
       "4    progrec = (-inf, 25.5)    48.923100\n",
       "5    progrec = <107.0, inf)    37.252374\n",
       "6   progrec = (-inf, 105.5)    33.962572\n",
       "7    progrec = (-inf, 99.0)    33.423755\n",
       "8      pnodes = (-inf, 4.5)    32.835122\n",
       "9   progrec = (-inf, 135.0)    25.353218\n",
       "10   progrec = (-inf, 11.5)    23.663185\n",
       "11    progrec = (-inf, 9.5)    23.506762\n",
       "12     pnodes = <4.5, 19.0)    18.150272\n",
       "13     progrec = <9.0, inf)    13.146344\n",
       "14  progrec = (-inf, 233.0)    12.268552\n",
       "15     estrec = <0.5, 29.0)    10.450381\n",
       "16       age = <41.5, 64.5)     9.275232\n",
       "17       age = <41.5, 52.5)     8.077389\n",
       "18    pnodes = (-inf, 17.5)     6.215064\n",
       "19        age = <39.5, inf)     3.171229\n",
       "20     estrec = <0.5, 41.0)     2.897339"
      ]
     },
     "execution_count": 8,
     "metadata": {},
     "output_type": "execute_result"
    }
   ],
   "source": [
    "explainer.condition_importances_"
   ]
  },
  {
   "cell_type": "markdown",
   "metadata": {},
   "source": [
    "### Local explainability"
   ]
  },
  {
   "cell_type": "code",
   "execution_count": 9,
   "metadata": {},
   "outputs": [
    {
     "name": "stdout",
     "output_type": "stream",
     "text": [
      "Example:\n",
      "horTh                  no\n",
      "age                  70.0\n",
      "menostat             Post\n",
      "tsize                21.0\n",
      "tgrade                 II\n",
      "pnodes                3.0\n",
      "progrec              48.0\n",
      "estrec               66.0\n",
      "survival_time      1814.0\n",
      "survival_status       1.0\n",
      "Name: 0, dtype: object\n",
      "\n",
      "Rules that covers this example:\n",
      "IF pnodes = (-inf, 3.5) THEN survival_status = {NaN}\n",
      "IF pnodes = (-inf, 4.5) AND progrec = <9.0, inf) AND age = <39.5, inf) THEN survival_status = {NaN}\n",
      "\n",
      "Importances of the conditions from rules covering the example\n",
      "             conditions  importances\n",
      "0  pnodes = (-inf, 3.5)    67.394775\n",
      "1  pnodes = (-inf, 4.5)    32.835122\n",
      "2  progrec = <9.0, inf)    13.146344\n",
      "3     age = <39.5, inf)     3.171229\n"
     ]
    },
    {
     "data": {
      "image/png": "[encoded data removed]",
      "text/plain": [
       "<Figure size 432x288 with 1 Axes>"
      ]
     },
     "metadata": {
      "needs_background": "light"
     },
     "output_type": "display_data"
    },
    {
     "data": {
      "text/html": [
       "<div>\n",
       "<style scoped>\n",
       "    .dataframe tbody tr th:only-of-type {\n",
       "        vertical-align: middle;\n",
       "    }\n",
       "\n",
       "    .dataframe tbody tr th {\n",
       "        vertical-align: top;\n",
       "    }\n",
       "\n",
       "    .dataframe thead th {\n",
       "        text-align: right;\n",
       "    }\n",
       "</style>\n",
       "<table border=\"1\" class=\"dataframe\">\n",
       "  <thead>\n",
       "    <tr style=\"text-align: right;\">\n",
       "      <th></th>\n",
       "      <th>conditions</th>\n",
       "      <th>importances</th>\n",
       "    </tr>\n",
       "  </thead>\n",
       "  <tbody>\n",
       "    <tr>\n",
       "      <th>0</th>\n",
       "      <td>pnodes = (-inf, 3.5)</td>\n",
       "      <td>67.394775</td>\n",
       "    </tr>\n",
       "    <tr>\n",
       "      <th>1</th>\n",
       "      <td>pnodes = (-inf, 4.5)</td>\n",
       "      <td>32.835122</td>\n",
       "    </tr>\n",
       "    <tr>\n",
       "      <th>2</th>\n",
       "      <td>progrec = &lt;9.0, inf)</td>\n",
       "      <td>13.146344</td>\n",
       "    </tr>\n",
       "    <tr>\n",
       "      <th>3</th>\n",
       "      <td>age = &lt;39.5, inf)</td>\n",
       "      <td>3.171229</td>\n",
       "    </tr>\n",
       "  </tbody>\n",
       "</table>\n",
       "</div>"
      ],
      "text/plain": [
       "             conditions  importances\n",
       "0  pnodes = (-inf, 3.5)    67.394775\n",
       "1  pnodes = (-inf, 4.5)    32.835122\n",
       "2  progrec = <9.0, inf)    13.146344\n",
       "3     age = <39.5, inf)     3.171229"
      ]
     },
     "execution_count": 9,
     "metadata": {},
     "output_type": "execute_result"
    }
   ],
   "source": [
    "explainer.local_explainability(x.iloc[0, :], pd.DataFrame(y).iloc[0, :], plot = True)"
   ]
  }
 ],
 "metadata": {
  "interpreter": {
   "hash": "52a883ffde2ee8dab628074f134ac5e542adeed8306ab19e0ac3d240604a9b31"
  },
  "kernelspec": {
   "display_name": "rulexai",
   "language": "python",
   "name": "rulexai"
  },
  "language_info": {
   "codemirror_mode": {
    "name": "ipython",
    "version": 3
   },
   "file_extension": ".py",
   "mimetype": "text/x-python",
   "name": "python",
   "nbconvert_exporter": "python",
   "pygments_lexer": "ipython3",
   "version": "3.8.5"
  },
  "orig_nbformat": 4
 },
 "nbformat": 4,
 "nbformat_minor": 2
}
